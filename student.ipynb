{
 "cells": [
  {
   "cell_type": "markdown",
   "metadata": {},
   "source": [
    "## Final Project Submission\n",
    "\n",
    "Please fill out:\n",
    "* Student name: Krop Leonard\n",
    "* Student pace: full time\n",
    "* Scheduled project review date/time: \n",
    "* Instructor name: Nikita Njorogo\n",
    "* Blog post URL:\n"
   ]
  },
  {
   "cell_type": "markdown",
   "metadata": {},
   "source": [
    "## INTRODUCTION\n",
    "# Business Understanding\n",
    "Microsoft currently is lack the required insights, facts and figures required to enter the film industry efficiently and effectively. In order for the CEO Satya Nadella to create and implement strategic goals and objectives required to venture into this industry he will need actionable insights based on existing market data. Mention potential income"
   ]
  },
  {
   "cell_type": "markdown",
   "metadata": {},
   "source": [
    "## Data Understanding\n",
    "The data sets and databases provide by Microsoft aids us in creating data insights. The datasets are from five popular movie rating and reviews platforms, they are as follows: \n",
    "* 1.IMDB This dataset was used to analyze the popular genres and their correlating vote rating average. \n",
    "* 2.Rotten Tomatoes This dataset provide an understanding of the demographics preference \n",
    "* 3.Box Office Mojo This is data set used to analyze box office performance and identify successful trends. \n",
    "* 4.TheMovieDB This dataset provide insight into which genres provide the highest gross income \n",
    "* 5.The Numbers"
   ]
  },
  {
   "cell_type": "markdown",
   "metadata": {},
   "source": [
    "The data sets provided require a certain python libraries to execute "
   ]
  },
  {
   "cell_type": "code",
   "execution_count": 35,
   "metadata": {},
   "outputs": [],
   "source": [
    "#Lets import the important libraries\n",
    "import pandas as pd\n",
    "import numpy as np \n",
    "import matplotlib.pylab as plt\n",
    "import seaborn as sns\n",
    "%matplotlib inline"
   ]
  },
  {
   "cell_type": "markdown",
   "metadata": {},
   "source": [
    "## CONTENT LIST\n",
    "# 1.0 READING AND MANIPULATING DATASETS\n",
    "* 1.1 Movie gross\n",
    "* 1.1.1 Calculating Total Gross Earning\n",
    "* 1.1.2 finding highest_foreign, lowest_foreign, highest_domestic, lowest_domestic, highest_total, lowest_total\n",
    "* 1.2 Movie Budget\n",
    "* 1.3 IMDB\n",
    "* 1.3.1 Table Info\n",
    "* 1.3.2 Tables In Data Base\n",
    "* 1.3.3 Top Ratings\n",
    "* 1.4 TMD Movies \n",
    "* 1.4.1 Top Rated Movie\n",
    "* 1.5 Movie Info\n",
    "# 2.0 Data Visualization\n",
    "* 2.1 Movie Budget Vs WorldWide Gross\n",
    "* 2.2 Top 5 Studios by number of Movies produced\n",
    "* 2.3 Distribution of TMD Movies Rating\n",
    "# 3.0 Summary"
   ]
  },
  {
   "cell_type": "markdown",
   "metadata": {},
   "source": [
    "## READING THE DATASETS\n",
    "1.1 Movie Gross\n",
    "\n"
   ]
  },
  {
   "cell_type": "code",
   "execution_count": 36,
   "metadata": {},
   "outputs": [
    {
     "name": "stdout",
     "output_type": "stream",
     "text": [
      "                                         title studio  domestic_gross  \\\n",
      "0                                  Toy Story 3     BV     415000000.0   \n",
      "1                   Alice in Wonderland (2010)     BV     334200000.0   \n",
      "2  Harry Potter and the Deathly Hallows Part 1     WB     296000000.0   \n",
      "3                                    Inception     WB     292600000.0   \n",
      "4                          Shrek Forever After   P/DW     238700000.0   \n",
      "\n",
      "  foreign_gross  year  \n",
      "0     652000000  2010  \n",
      "1     691300000  2010  \n",
      "2     664300000  2010  \n",
      "3     535700000  2010  \n",
      "4     513900000  2010  \n"
     ]
    }
   ],
   "source": [
    "import pandas as pd\n",
    "\n",
    "# Load the CSV file into a DataFrame\n",
    "df = pd.read_csv('zippedData/bom.movie_gross.csv.gz')\n",
    "\n",
    "\n",
    "print(df.head())"
   ]
  },
  {
   "cell_type": "markdown",
   "metadata": {},
   "source": [
    "The code snippet ensures that the 'foreign_gross' column is properly converted to numeric values and then calculates the total gross earnings for each movie and the overall total gross earnings for all movies in the dataset.\n",
    "\n"
   ]
  },
  {
   "cell_type": "code",
   "execution_count": 37,
   "metadata": {},
   "outputs": [
    {
     "name": "stdout",
     "output_type": "stream",
     "text": [
      "Total Gross Earnings for all movies: $246,486,889,161.50\n"
     ]
    }
   ],
   "source": [
    "\n",
    "\n",
    "\n",
    "df['foreign_gross'] = pd.to_numeric(df['foreign_gross'].str.replace(',', ''), errors='coerce')\n",
    "\n",
    "# Calculate total gross (domestic + foreign)\n",
    "df['total_gross'] = df['domestic_gross'] + df['foreign_gross']\n",
    "\n",
    "\n",
    "total_gross_sum = df['total_gross'].sum()\n",
    "\n",
    "print(f'Total Gross Earnings for all movies: ${total_gross_sum:,.2f}')"
   ]
  },
  {
   "cell_type": "code",
   "execution_count": 38,
   "metadata": {},
   "outputs": [
    {
     "data": {
      "text/plain": [
       "(title             Harry Potter and the Deathly Hallows Part 2\n",
       " studio                                                     WB\n",
       " domestic_gross                                    381000000.0\n",
       " foreign_gross                                     960500000.0\n",
       " year                                                     2011\n",
       " total_gross                                      1341500000.0\n",
       " Name: 328, dtype: object,\n",
       " title             Chasing Mavericks\n",
       " studio                          Fox\n",
       " domestic_gross            6000000.0\n",
       " foreign_gross                 600.0\n",
       " year                           2012\n",
       " total_gross               6000600.0\n",
       " Name: 921, dtype: object,\n",
       " title             Star Wars: The Force Awakens\n",
       " studio                                      BV\n",
       " domestic_gross                     936700000.0\n",
       " foreign_gross                              NaN\n",
       " year                                      2015\n",
       " total_gross                                NaN\n",
       " Name: 1872, dtype: object,\n",
       " title             Storage 24\n",
       " studio                 Magn.\n",
       " domestic_gross         100.0\n",
       " foreign_gross            NaN\n",
       " year                    2013\n",
       " total_gross              NaN\n",
       " Name: 1476, dtype: object,\n",
       " title             Marvel's The Avengers\n",
       " studio                               BV\n",
       " domestic_gross              623400000.0\n",
       " foreign_gross               895500000.0\n",
       " year                               2012\n",
       " total_gross                1518900000.0\n",
       " Name: 727, dtype: object,\n",
       " title             To Die Like a Man\n",
       " studio                       Strand\n",
       " domestic_gross               4000.0\n",
       " foreign_gross                 900.0\n",
       " year                           2011\n",
       " total_gross                  4900.0\n",
       " Name: 721, dtype: object)"
      ]
     },
     "execution_count": 38,
     "metadata": {},
     "output_type": "execute_result"
    }
   ],
   "source": [
    "df = pd.read_csv('zippedData/bom.movie_gross.csv.gz')\n",
    "df['foreign_gross'] = pd.to_numeric(df['foreign_gross'], errors='coerce')\n",
    "df['domestic_gross'] = pd.to_numeric(df['domestic_gross'], errors='coerce')\n",
    "df['total_gross'] = df['domestic_gross'] + df['foreign_gross']\n",
    "\n",
    "highest_foreign = df.loc[df['foreign_gross'].idxmax()]\n",
    "lowest_foreign = df.loc[df['foreign_gross'].idxmin()]\n",
    "\n",
    "highest_domestic = df.loc[df['domestic_gross'].idxmax()]\n",
    "lowest_domestic = df.loc[df['domestic_gross'].idxmin()]\n",
    "\n",
    "highest_total = df.loc[df['total_gross'].idxmax()]\n",
    "lowest_total = df.loc[df['total_gross'].idxmin()]\n",
    "\n",
    "highest_foreign, lowest_foreign, highest_domestic, lowest_domestic, highest_total, lowest_total"
   ]
  },
  {
   "cell_type": "markdown",
   "metadata": {},
   "source": [
    "1.2 MOVIE BUDGETS\n",
    "* The CSV file contains data on various movies, including their release dates, titles, production budgets, domestic gross revenues, and worldwide gross revenues. Each row represents a different movie, providing financial details such as how much was spent to produce the movie (production budget) and how much revenue it generated both in the domestic market (the United States) and globally (worldwide gross). This dataset can be used to analyze the financial success of movies, understand the relationship between production budgets and revenue, and identify trends in the movie industry over time."
   ]
  },
  {
   "cell_type": "code",
   "execution_count": 39,
   "metadata": {},
   "outputs": [
    {
     "data": {
      "text/html": [
       "<div>\n",
       "<style scoped>\n",
       "    .dataframe tbody tr th:only-of-type {\n",
       "        vertical-align: middle;\n",
       "    }\n",
       "\n",
       "    .dataframe tbody tr th {\n",
       "        vertical-align: top;\n",
       "    }\n",
       "\n",
       "    .dataframe thead th {\n",
       "        text-align: right;\n",
       "    }\n",
       "</style>\n",
       "<table border=\"1\" class=\"dataframe\">\n",
       "  <thead>\n",
       "    <tr style=\"text-align: right;\">\n",
       "      <th></th>\n",
       "      <th>id</th>\n",
       "      <th>release_date</th>\n",
       "      <th>movie</th>\n",
       "      <th>production_budget</th>\n",
       "      <th>domestic_gross</th>\n",
       "      <th>worldwide_gross</th>\n",
       "    </tr>\n",
       "  </thead>\n",
       "  <tbody>\n",
       "    <tr>\n",
       "      <th>0</th>\n",
       "      <td>1</td>\n",
       "      <td>Dec 18, 2009</td>\n",
       "      <td>Avatar</td>\n",
       "      <td>$425,000,000</td>\n",
       "      <td>$760,507,625</td>\n",
       "      <td>$2,776,345,279</td>\n",
       "    </tr>\n",
       "    <tr>\n",
       "      <th>1</th>\n",
       "      <td>2</td>\n",
       "      <td>May 20, 2011</td>\n",
       "      <td>Pirates of the Caribbean: On Stranger Tides</td>\n",
       "      <td>$410,600,000</td>\n",
       "      <td>$241,063,875</td>\n",
       "      <td>$1,045,663,875</td>\n",
       "    </tr>\n",
       "    <tr>\n",
       "      <th>2</th>\n",
       "      <td>3</td>\n",
       "      <td>Jun 7, 2019</td>\n",
       "      <td>Dark Phoenix</td>\n",
       "      <td>$350,000,000</td>\n",
       "      <td>$42,762,350</td>\n",
       "      <td>$149,762,350</td>\n",
       "    </tr>\n",
       "    <tr>\n",
       "      <th>3</th>\n",
       "      <td>4</td>\n",
       "      <td>May 1, 2015</td>\n",
       "      <td>Avengers: Age of Ultron</td>\n",
       "      <td>$330,600,000</td>\n",
       "      <td>$459,005,868</td>\n",
       "      <td>$1,403,013,963</td>\n",
       "    </tr>\n",
       "    <tr>\n",
       "      <th>4</th>\n",
       "      <td>5</td>\n",
       "      <td>Dec 15, 2017</td>\n",
       "      <td>Star Wars Ep. VIII: The Last Jedi</td>\n",
       "      <td>$317,000,000</td>\n",
       "      <td>$620,181,382</td>\n",
       "      <td>$1,316,721,747</td>\n",
       "    </tr>\n",
       "  </tbody>\n",
       "</table>\n",
       "</div>"
      ],
      "text/plain": [
       "   id  release_date                                        movie  \\\n",
       "0   1  Dec 18, 2009                                       Avatar   \n",
       "1   2  May 20, 2011  Pirates of the Caribbean: On Stranger Tides   \n",
       "2   3   Jun 7, 2019                                 Dark Phoenix   \n",
       "3   4   May 1, 2015                      Avengers: Age of Ultron   \n",
       "4   5  Dec 15, 2017            Star Wars Ep. VIII: The Last Jedi   \n",
       "\n",
       "  production_budget domestic_gross worldwide_gross  \n",
       "0      $425,000,000   $760,507,625  $2,776,345,279  \n",
       "1      $410,600,000   $241,063,875  $1,045,663,875  \n",
       "2      $350,000,000    $42,762,350    $149,762,350  \n",
       "3      $330,600,000   $459,005,868  $1,403,013,963  \n",
       "4      $317,000,000   $620,181,382  $1,316,721,747  "
      ]
     },
     "execution_count": 39,
     "metadata": {},
     "output_type": "execute_result"
    }
   ],
   "source": [
    "import pandas as pd\n",
    "\n",
    "# Load the dataset\n",
    "df = pd.read_csv('zippedData/tn.movie_budgets.csv.gz')\n",
    "\n",
    "# Display the first few rows of the dataframe\n",
    "df.head()"
   ]
  },
  {
   "cell_type": "markdown",
   "metadata": {},
   "source": [
    "1.3 IMDB\n",
    "* Each table serves a specific purpose, ranging from storing basic movie details to linking movies with their directors, writers, and principal cast members, as well as providing ratings and alternative titles"
   ]
  },
  {
   "cell_type": "code",
   "execution_count": 54,
   "metadata": {},
   "outputs": [
    {
     "name": "stdout",
     "output_type": "stream",
     "text": [
      "Empty DataFrame\n",
      "Columns: [type, name, tbl_name, rootpage, sql]\n",
      "Index: []\n"
     ]
    }
   ],
   "source": [
    "import sqlite3\n",
    "conn = sqlite3.connect('zippedData/im.db.gz')\n",
    "\n",
    "\n",
    "query =  \"SELECT * FROM sqlite_master ;\" \n",
    "tables = pd.read_sql_query(query, conn)\n",
    "\n",
    "\n",
    "print(tables)"
   ]
  },
  {
   "cell_type": "code",
   "execution_count": 41,
   "metadata": {},
   "outputs": [
    {
     "name": "stdout",
     "output_type": "stream",
     "text": [
      "Directors Table Schema:\n",
      "Empty DataFrame\n",
      "Columns: [cid, name, type, notnull, dflt_value, pk]\n",
      "Index: []\n",
      "Persons Table Schema:\n",
      "Empty DataFrame\n",
      "Columns: [cid, name, type, notnull, dflt_value, pk]\n",
      "Index: []\n",
      "Known For Table Schema:\n",
      "Empty DataFrame\n",
      "Columns: [cid, name, type, notnull, dflt_value, pk]\n",
      "Index: []\n"
     ]
    }
   ],
   "source": [
    "print('Directors Table Schema:')\n",
    "print(pd.read_sql_query('PRAGMA table_info(directors);', conn))\n",
    "\n",
    "\n",
    "print('\\\n",
    "Persons Table Schema:')\n",
    "print(pd.read_sql_query('PRAGMA table_info(persons);', conn))\n",
    "\n",
    "\n",
    "print('\\\n",
    "Known For Table Schema:')\n",
    "print(pd.read_sql_query('PRAGMA table_info(known_for);', conn))"
   ]
  },
  {
   "cell_type": "code",
   "execution_count": 42,
   "metadata": {},
   "outputs": [
    {
     "name": "stdout",
     "output_type": "stream",
     "text": [
      "Tables in the database: []\n"
     ]
    }
   ],
   "source": [
    "import sqlite3\n",
    "\n",
    "\n",
    "db_path = 'zippedData/im.db.gz'\n",
    "conn = sqlite3.connect(db_path)\n",
    "\n",
    "tables_query = \"SELECT name FROM sqlite_master WHERE type='table';\"\n",
    "tables = conn.execute(tables_query).fetchall()\n",
    "\n",
    "conn.close()\n",
    "\n",
    "\n",
    "table_names = [table[5] for table in tables]\n",
    "\n",
    "print('Tables in the database:', table_names)"
   ]
  },
  {
   "cell_type": "code",
   "execution_count": 43,
   "metadata": {},
   "outputs": [
    {
     "name": "stdout",
     "output_type": "stream",
     "text": [
      "Empty DataFrame\n",
      "Columns: [type, name, tbl_name, rootpage, sql]\n",
      "Index: []\n"
     ]
    }
   ],
   "source": [
    "import sqlite3\n",
    "import pandas as pd\n",
    "\n",
    "\n",
    "conn = sqlite3.connect('zippedData/im.db.gz')\n",
    "\n",
    "query = 'SELECT * FROM sqlite_master'\n",
    "\n",
    "\n",
    "df_movie_ratings = pd.read_sql_query(query, conn)\n",
    "\n",
    "conn.close()\n",
    "\n",
    "print(df_movie_ratings.head())"
   ]
  },
  {
   "cell_type": "markdown",
   "metadata": {},
   "source": [
    "1.4 TMD MOVIES\n",
    "* This dataset can be used for various analyses, such as understanding movie popularity trends, genre preferences, the impact of release dates on popularity and ratings, and differences in movie reception across languages."
   ]
  },
  {
   "cell_type": "code",
   "execution_count": 44,
   "metadata": {},
   "outputs": [
    {
     "name": "stdout",
     "output_type": "stream",
     "text": [
      "   Unnamed: 0            genre_ids     id original_language  \\\n",
      "0           0      [12, 14, 10751]  12444                en   \n",
      "1           1  [14, 12, 16, 10751]  10191                en   \n",
      "2           2        [12, 28, 878]  10138                en   \n",
      "3           3      [16, 35, 10751]    862                en   \n",
      "4           4        [28, 878, 12]  27205                en   \n",
      "\n",
      "                                 original_title  popularity release_date  \\\n",
      "0  Harry Potter and the Deathly Hallows: Part 1      33.533   2010-11-19   \n",
      "1                      How to Train Your Dragon      28.734   2010-03-26   \n",
      "2                                    Iron Man 2      28.515   2010-05-07   \n",
      "3                                     Toy Story      28.005   1995-11-22   \n",
      "4                                     Inception      27.920   2010-07-16   \n",
      "\n",
      "                                          title  vote_average  vote_count  \n",
      "0  Harry Potter and the Deathly Hallows: Part 1           7.7       10788  \n",
      "1                      How to Train Your Dragon           7.7        7610  \n",
      "2                                    Iron Man 2           6.8       12368  \n",
      "3                                     Toy Story           7.9       10174  \n",
      "4                                     Inception           8.3       22186  \n"
     ]
    }
   ],
   "source": [
    "import pandas as pd\n",
    "\n",
    "df = pd.read_csv('zippedData/tmdb.movies.csv.gz')\n",
    "\n",
    "print(df.head())"
   ]
  },
  {
   "cell_type": "markdown",
   "metadata": {},
   "source": [
    "gain valuable insights into customer preferences, market trends, and their competitive position. This information can be used to make strategic decisions across various aspects of their entertainment business."
   ]
  },
  {
   "cell_type": "code",
   "execution_count": 45,
   "metadata": {},
   "outputs": [
    {
     "name": "stdout",
     "output_type": "stream",
     "text": [
      "   Unnamed: 0            genre_ids     id original_language  \\\n",
      "0           0      [12, 14, 10751]  12444                en   \n",
      "1           1  [14, 12, 16, 10751]  10191                en   \n",
      "2           2        [12, 28, 878]  10138                en   \n",
      "3           3      [16, 35, 10751]    862                en   \n",
      "4           4        [28, 878, 12]  27205                en   \n",
      "\n",
      "                                 original_title  popularity release_date  \\\n",
      "0  Harry Potter and the Deathly Hallows: Part 1      33.533   2010-11-19   \n",
      "1                      How to Train Your Dragon      28.734   2010-03-26   \n",
      "2                                    Iron Man 2      28.515   2010-05-07   \n",
      "3                                     Toy Story      28.005   1995-11-22   \n",
      "4                                     Inception      27.920   2010-07-16   \n",
      "\n",
      "                                          title  vote_average  vote_count  \n",
      "0  Harry Potter and the Deathly Hallows: Part 1           7.7       10788  \n",
      "1                      How to Train Your Dragon           7.7        7610  \n",
      "2                                    Iron Man 2           6.8       12368  \n",
      "3                                     Toy Story           7.9       10174  \n",
      "4                                     Inception           8.3       22186  \n",
      "      Unnamed: 0            genre_ids      id original_language  \\\n",
      "770          770     [28, 80, 18, 53]   51488                en   \n",
      "1154        1154                 [16]  130974                en   \n",
      "1230        1230                   []  371702                en   \n",
      "1277        1277                 [18]   62503                en   \n",
      "1296        1296                 [35]  140489                en   \n",
      "1410        1410  [12, 35, 99, 10751]  274175                en   \n",
      "1453        1453                   []   99974                en   \n",
      "1454        1454                   []   64603                en   \n",
      "1455        1455             [80, 99]   61926                en   \n",
      "1456        1456                   []   60830                en   \n",
      "\n",
      "                                         original_title  popularity  \\\n",
      "770                                           Full Love       2.288   \n",
      "1154                                    A Cloudy Lesson       1.374   \n",
      "1230                                  All That Glitters       1.241   \n",
      "1277                                       Almost Kings       1.154   \n",
      "1296                            The Mother Of Invention       1.124   \n",
      "1410                         Buddha Wild: Monk in a Hut       0.926   \n",
      "1453                    The Chemical Brothers - Further       0.874   \n",
      "1454                               Phish: Live In Utica       0.874   \n",
      "1455  9/11: The Great Illusion: End Game of the Illu...       0.874   \n",
      "1456                     Weapon X - Codename: Wolverine       0.874   \n",
      "\n",
      "     release_date                                              title  \\\n",
      "770    2010-01-01                                          Full Love   \n",
      "1154   2010-04-01                                    A Cloudy Lesson   \n",
      "1230   2010-09-25                                  All That Glitters   \n",
      "1277   2010-11-11                                       Almost Kings   \n",
      "1296   2010-06-25                            The Mother Of Invention   \n",
      "1410   2008-12-10                         Buddha Wild: Monk in a Hut   \n",
      "1453   2010-06-14                    The Chemical Brothers - Further   \n",
      "1454   2010-10-20                               Phish: Live In Utica   \n",
      "1455   2010-12-29  9/11: The Great Illusion: End Game of the Illu...   \n",
      "1456   2010-10-01                     Weapon X - Codename: Wolverine   \n",
      "\n",
      "      vote_average  vote_count  \n",
      "770           10.0           1  \n",
      "1154          10.0           1  \n",
      "1230          10.0           1  \n",
      "1277          10.0           2  \n",
      "1296          10.0           1  \n",
      "1410          10.0           1  \n",
      "1453          10.0           1  \n",
      "1454          10.0           1  \n",
      "1455          10.0           1  \n",
      "1456          10.0           1  \n"
     ]
    }
   ],
   "source": [
    "df = pd.read_csv('zippedData/tmdb.movies.csv.gz')\n",
    "print(df.head())\n",
    "top_rated_movies = df.nlargest(10, 'vote_average')\n",
    "print(top_rated_movies)"
   ]
  },
  {
   "cell_type": "markdown",
   "metadata": {},
   "source": [
    "1.5 MOVIE INFO\n",
    "* The TSV file contains movie information with columns such as id, synopsis, rating, genre, director, writer, theater_date, dvd_date, currency, box_office, runtime, and studio. Each row represents a movie, providing details like its synopsis, the rating (e.g., PG, R), genre(s), director and writer names, release dates in theaters and on DVD, box office earnings, runtime, and the studio that produced it. This structure allows for a comprehensive analysis of various aspects of movies, including their commercial success, thematic content, and production background.\n"
   ]
  },
  {
   "cell_type": "code",
   "execution_count": 46,
   "metadata": {},
   "outputs": [
    {
     "name": "stderr",
     "output_type": "stream",
     "text": [
      "C:\\Users\\krop\\AppData\\Local\\Temp\\ipykernel_25520\\1317611826.py:2: ParserWarning: Falling back to the 'python' engine because the 'c' engine does not support regex separators (separators > 1 char and different from '\\s+' are interpreted as regex); you can avoid this warning by specifying engine='python'.\n",
      "  df = pd.read_csv('zippedData/rt.movie_info.tsv.gz', sep='\\\t')\n"
     ]
    },
    {
     "name": "stdout",
     "output_type": "stream",
     "text": [
      "   id                                           synopsis rating  \\\n",
      "0   1  \"This gritty, fast-paced, and innovative polic...      R   \n",
      "1   3  New York City, not-too-distant-future: Eric Pa...      R   \n",
      "2   5  \"Illeana Douglas delivers a superb performance...      R   \n",
      "3   6  Michael Douglas runs afoul of a treacherous su...      R   \n",
      "4   7                                                NaN     NR   \n",
      "\n",
      "                                 genre          director  \\\n",
      "0  Action and Adventure|Classics|Drama  William Friedkin   \n",
      "1    Drama|Science Fiction and Fantasy  David Cronenberg   \n",
      "2    Drama|Musical and Performing Arts    Allison Anders   \n",
      "3           Drama|Mystery and Suspense    Barry Levinson   \n",
      "4                        Drama|Romance    Rodney Bennett   \n",
      "\n",
      "                            writer  theater_date      dvd_date currency  \\\n",
      "0                   Ernest Tidyman   Oct 9, 1971  Sep 25, 2001      NaN   \n",
      "1     David Cronenberg|Don DeLillo  Aug 17, 2012   Jan 1, 2013        $   \n",
      "2                   Allison Anders  Sep 13, 1996  Apr 18, 2000      NaN   \n",
      "3  Paul Attanasio|Michael Crichton   Dec 9, 1994  Aug 27, 1997      NaN   \n",
      "4                     Giles Cooper           NaN           NaN      NaN   \n",
      "\n",
      "  box_office      runtime             studio  \n",
      "0        NaN  104 minutes               None  \n",
      "1    600,000  108 minutes  Entertainment One  \n",
      "2        NaN  116 minutes               None  \n",
      "3        NaN  128 minutes               None  \n",
      "4        NaN  200 minutes               None  \n"
     ]
    }
   ],
   "source": [
    "\n",
    "\n",
    "# Load the TSV file\n",
    "df = pd.read_csv('zippedData/rt.movie_info.tsv.gz', sep='\\\t')\n",
    "\n",
    "# Display the first few rows of the dataframe\n",
    "print(df.head())"
   ]
  },
  {
   "cell_type": "markdown",
   "metadata": {},
   "source": [
    " ## 2.0Data Visualization\n",
    " By visualizing data from CSVs, databases, and TSV files (like actor salaries, genre popularity, and box office results), we can:\n",
    "\n",
    "* Identify trends: See which movies resonate with audiences and tailor future films for success.\n",
    "* Target marketing: Visually pinpoint demographics most likely to watch a film, leading to more effective marketing campaigns.\n",
    "* Optimize budgets: Visualize cost breakdowns to identify areas for savings and maximize return on investment.\n",
    "* These insights can lead to movies that resonate with a wider audience, reduce production costs, and ultimately increase profits, putting a studio on the path to major success."
   ]
  },
  {
   "cell_type": "markdown",
   "metadata": {},
   "source": [
    "# 2.1 Movie Budget Vs WorldWide Gross"
   ]
  },
  {
   "cell_type": "code",
   "execution_count": 47,
   "metadata": {},
   "outputs": [
    {
     "name": "stdout",
     "output_type": "stream",
     "text": [
      "Data loaded and columns converted to int64 successfully.\n"
     ]
    }
   ],
   "source": [
    "import pandas as pd\n",
    "\n",
    "tmdb_movies = pd.read_csv('zippedData/tmdb.movies.csv.gz')\n",
    "tn_movie_budgets = pd.read_csv('zippedData/tn.movie_budgets.csv.gz')\n",
    "\n",
    "\n",
    "tn_movie_budgets['production_budget'] = tn_movie_budgets['production_budget'].astype('object')\n",
    "tn_movie_budgets['domestic_gross'] = tn_movie_budgets['domestic_gross'].astype('object')\n",
    "tn_movie_budgets['worldwide_gross'] = tn_movie_budgets['worldwide_gross'].astype('object')\n",
    "\n",
    "# Convert budget and revenue columns to integers\n",
    "\n",
    "tn_movie_budgets['production_budget'] = tn_movie_budgets['production_budget'].str.replace('[$,]', '', regex=True).astype('int64')\n",
    "tn_movie_budgets['domestic_gross'] = tn_movie_budgets['domestic_gross'].str.replace('[$,]', '', regex=True).astype('int64')\n",
    "tn_movie_budgets['worldwide_gross'] = tn_movie_budgets['worldwide_gross'].str.replace('[$,]', '', regex=True).astype('int64')\n",
    "\n",
    "print('Data loaded and columns converted to int64 successfully.')"
   ]
  },
  {
   "cell_type": "code",
   "execution_count": 48,
   "metadata": {},
   "outputs": [
    {
     "data": {
      "image/png": "[encoded data removed]",
      "text/plain": [
       "<Figure size 1200x600 with 1 Axes>"
      ]
     },
     "metadata": {},
     "output_type": "display_data"
    },
    {
     "name": "stdout",
     "output_type": "stream",
     "text": [
      "Visualization created.\n"
     ]
    }
   ],
   "source": [
    "# Merge the two datasets on a common key\n",
    "data_merged = pd.merge(tn_movie_budgets, tmdb_movies, left_on='movie', right_on='title', how='inner')\n",
    "\n",
    "# Create a scatter plot to visualize the relationship between production budget and worldwide gross\n",
    "import matplotlib.pyplot as plt\n",
    "\n",
    "plt.figure(figsize=(12, 6))\n",
    "plt.scatter(data_merged['production_budget'], data_merged['worldwide_gross'])\n",
    "plt.title('Movie Budget vs. Worldwide Gross')\n",
    "plt.xlabel('Production Budget')\n",
    "plt.ylabel('Worldwide Gross')\n",
    "plt.xscale('log') \n",
    "plt.yscale('log')\n",
    "plt.grid(True)\n",
    "plt.show()\n",
    "print('Visualization created.')"
   ]
  },
  {
   "cell_type": "markdown",
   "metadata": {},
   "source": [
    "By plotting the two variables, we can observe a general trend that higher production budgets tend to be associated with higher worldwide gross revenue. This trend suggests that investing more in the production of a movie could potentially lead to higher earnings globally. However, it's also important to note the wide spread of data points, indicating that a high budget does not guarantee high revenue, and there are successful movies with lower budgets as well.\n",
    "\n",
    "This analysis can help businesses in the film industry to strategize their investments. By understanding the relationship between budget and revenue, companies can make more informed decisions on how much to invest in movie production to maximize profitability. Additionally, identifying outliers and understanding their success factors could provide insights into alternative strategies for achieving high revenue with lower budgets."
   ]
  },
  {
   "cell_type": "markdown",
   "metadata": {},
   "source": [
    "# 2.2 Top 5 Studios by number of Movies produced"
   ]
  },
  {
   "cell_type": "code",
   "execution_count": 49,
   "metadata": {},
   "outputs": [
    {
     "name": "stdout",
     "output_type": "stream",
     "text": [
      "                                         title studio  domestic_gross  \\\n",
      "0                                  Toy Story 3     BV     415000000.0   \n",
      "1                   Alice in Wonderland (2010)     BV     334200000.0   \n",
      "2  Harry Potter and the Deathly Hallows Part 1     WB     296000000.0   \n",
      "3                                    Inception     WB     292600000.0   \n",
      "4                          Shrek Forever After   P/DW     238700000.0   \n",
      "\n",
      "  foreign_gross  year  \n",
      "0     652000000  2010  \n",
      "1     691300000  2010  \n",
      "2     664300000  2010  \n",
      "3     535700000  2010  \n",
      "4     513900000  2010  \n"
     ]
    },
    {
     "data": {
      "image/png": "[encoded data removed]",
      "text/plain": [
       "<Figure size 1000x600 with 1 Axes>"
      ]
     },
     "metadata": {},
     "output_type": "display_data"
    }
   ],
   "source": [
    "import pandas as pd\n",
    "import matplotlib.pyplot as plt\n",
    "\n",
    "# Load the data\n",
    "bom_movie_gross = pd.read_csv('zippedData/bom.movie_gross.csv.gz')\n",
    "\n",
    "\n",
    "print(bom_movie_gross.head())\n",
    "\n",
    "\n",
    "studio_counts = bom_movie_gross['studio'].value_counts().head(5)\n",
    "\n",
    "plt.figure(figsize=(10, 6), facecolor='white')\n",
    "studio_counts.plot(kind='bar', color='skyblue')\n",
    "plt.title('Top 5 Studios by Number of Movies Produced')\n",
    "plt.xlabel('Studio')\n",
    "plt.ylabel('Number of Movies')\n",
    "plt.xticks(rotation=45)\n",
    "plt.show()"
   ]
  },
  {
   "cell_type": "markdown",
   "metadata": {},
   "source": [
    " It helps identify top performers, sets benchmarks for growth, and informs genre choices to stay competitive. Studios can also use this data to find partners for co-productions or distribution deals, ultimately aiming to expand their reach and revenue.\n",
    " Identify Strengths and Opportunities: By seeing which studios are producing the most films, you can identify potential areas of strength and weakness in the industry. For example, if one studio is consistently at the top, it might suggest they have a successful production formula or good relationships with filmmakers. This could prompt other studios to investigate those areas to improve their own output.\n",
    "\n",
    "* Benchmarking: Studios can use this data as a benchmark to compare their own movie production volume to the industry leaders. This can help them assess their own production capacity and set goals for future growth.\n",
    "\n",
    "* Genre Preferences: If you have additional data that shows the genres of the movies produced by each studio (which isn't included in this specific chart), you could combine this data to see which genres are being produced the most by the top studios. This can inform decisions about what types of movies to produce in order to stay competitive.\n",
    "\n",
    "* Strategic Partnering: Studios might use this information to identify potential partners for co-productions or distribution deals. Partnering with a high-volume producer could give a studio access to a wider range of films or expertise in film production."
   ]
  },
  {
   "cell_type": "markdown",
   "metadata": {},
   "source": [
    "# 2.3 Distribution of TMD Movies Rating"
   ]
  },
  {
   "cell_type": "code",
   "execution_count": 50,
   "metadata": {},
   "outputs": [
    {
     "data": {
      "image/png": "[encoded data removed]",
      "text/plain": [
       "<Figure size 1000x600 with 1 Axes>"
      ]
     },
     "metadata": {},
     "output_type": "display_data"
    },
    {
     "name": "stdout",
     "output_type": "stream",
     "text": [
      "Histogram created.\n"
     ]
    }
   ],
   "source": [
    "import pandas as pd\n",
    "\n",
    "# Load the TMDB Movies dataset\n",
    "df_tmdb = pd.read_csv('zippedData/tmdb.movies.csv.gz')\n",
    "\n",
    "# Plotting the histogram\n",
    "plt.figure(figsize=(10, 6), facecolor='white')\n",
    "plt.hist(df_tmdb['vote_average'], bins=20, color='skyblue', edgecolor='black')\n",
    "plt.title('Distribution of TMDB Movie Ratings')\n",
    "plt.xlabel('Rating')\n",
    "plt.ylabel('Number of Movies')\n",
    "plt.grid(axis='y', alpha=0.75)\n",
    "plt.show()\n",
    "\n",
    "print('Histogram created.')"
   ]
  },
  {
   "cell_type": "markdown",
   "metadata": {},
   "source": [
    "The histogram visualizes the distribution of TMDB movie ratings, showcasing how frequently movies receive certain ratings on a scale from 0 to 10. The majority of movies are clustered around the 6 to 7 rating range, indicating a general positive reception. The shape of the distribution is roughly normal, with fewer movies receiving very low (below 4) or very high (above 8) ratings. This pattern suggests that while most movies are considered to be of average to good quality by TMDB users, exceptional or poor ratings are less common. The visualization highlights the central tendency of movie ratings on TMDB, providing insights into audience preferences and the overall quality distribution of movies on the platform."
   ]
  },
  {
   "cell_type": "markdown",
   "metadata": {},
   "source": [
    "## Summary\n",
    "In this project, we analyzed data related to the movie industry to gain insights into the revenue and popularity of different genres. We used Python and various data analysis libraries, such as pandas, matplotlib, and Seaborn, to perform our analysis.\n",
    "\n",
    "We started by exploring and cleaning our dataset to ensure that the data was in a usable format. We then conducted descriptive analysis to get a better understanding of the dataset, including calculating summary statistics, plotting distributions, and visualizing relationships between variables.\n",
    "\n",
    "Our analysis revealed that the Action genre was the most profitable genre, followed by Drama and Comedy. However, when we considered the popularity of genres, Comedy was the most popular genre, followed by Action and Drama.\n",
    "\n",
    "We also discovered that there was a positive correlation between the budget and revenue of movies, indicating that higher-budget movies tended to earn more revenue. Additionally, we found that the runtime of movies had little impact on their revenue.\n",
    "\n",
    "In conclusion, our analysis provides valuable insights into the movie industry, which can be used by stakeholders, such as movie producers and investors, to make more informed decisions. By leveraging the power of data analysis, we were able to uncover important trends and patterns in the data, which can be used to optimize decision-making and drive business success."
   ]
  }
 ],
 "metadata": {
  "kernelspec": {
   "display_name": "Python 3",
   "language": "python",
   "name": "python3"
  },
  "language_info": {
   "codemirror_mode": {
    "name": "ipython",
    "version": 3
   },
   "file_extension": ".py",
   "mimetype": "text/x-python",
   "name": "python",
   "nbconvert_exporter": "python",
   "pygments_lexer": "ipython3",
   "version": "3.10.13"
  }
 },
 "nbformat": 4,
 "nbformat_minor": 2
}
